{
 "cells": [
  {
   "cell_type": "markdown",
   "id": "2be0447a-c80b-4daf-80dc-05edc5d3cc08",
   "metadata": {
    "tags": []
   },
   "source": [
    "# Exercise FilmAffinity 250 top movies"
   ]
  },
  {
   "cell_type": "code",
   "execution_count": 110,
   "id": "a3d69d45-9d81-4485-88a5-6b19c459debe",
   "metadata": {},
   "outputs": [],
   "source": [
    "from bs4 import BeautifulSoup as bs\n",
    "import requests\n",
    "import re\n",
    "import time\n",
    "import pandas as pd\n",
    "from selenium import webdriver\n",
    "from selenium.webdriver.common.by import By\n",
    "\n",
    "from webdriver_manager.chrome import ChromeDriverManager"
   ]
  },
  {
   "cell_type": "code",
   "execution_count": 111,
   "id": "3e72df0e",
   "metadata": {},
   "outputs": [
    {
     "name": "stderr",
     "output_type": "stream",
     "text": [
      "C:\\Users\\yagoa\\AppData\\Local\\Temp\\ipykernel_25052\\3862052252.py:2: DeprecationWarning: executable_path has been deprecated, please pass in a Service object\n",
      "  driver = webdriver.Chrome(ChromeDriverManager().install())\n"
     ]
    }
   ],
   "source": [
    "url = \"https://www.filmaffinity.com/es/ranking.php?rn=ranking_fa_movies\"\n",
    "driver = webdriver.Chrome(ChromeDriverManager().install())\n",
    "\n",
    "driver.get(url)"
   ]
  },
  {
   "cell_type": "code",
   "execution_count": 112,
   "id": "02c2d024",
   "metadata": {},
   "outputs": [],
   "source": [
    "Cookies = driver.find_element(\"xpath\", \"/html/body/div[1]/div/div/div/div[2]/div/button[2]/span\")\n",
    "Cookies.click()"
   ]
  },
  {
   "cell_type": "code",
   "execution_count": 28,
   "id": "50e1372e",
   "metadata": {},
   "outputs": [],
   "source": [
    "driver.execute_script(\"window.scrollTo(0, document.body.scrollHeight);\")"
   ]
  },
  {
   "cell_type": "code",
   "execution_count": 78,
   "id": "d6834247",
   "metadata": {},
   "outputs": [],
   "source": [
    "boton = driver.find_element(\"xpath\", \"/html/body/div[5]/table/tbody/tr/td[2]/div[1]/div[4]/div[3]\")# es esta\n",
    "boton.click()"
   ]
  },
  {
   "cell_type": "code",
   "execution_count": null,
   "id": "c17174b1",
   "metadata": {},
   "outputs": [],
   "source": []
  },
  {
   "cell_type": "code",
   "execution_count": 113,
   "id": "4883992d",
   "metadata": {},
   "outputs": [],
   "source": [
    "\n",
    "for i in range(0,8):\n",
    "    driver.execute_script(\"window.scrollTo(0, document.body.scrollHeight);\")\n",
    "    time.sleep(2)\n",
    "    driver.execute_script(\"window.scrollTo(0, document.body.scrollHeight);\")\n",
    "    time.sleep(0.8)\n",
    "    boton = driver.find_element(\"xpath\", \"/html/body/div[5]/table/tbody/tr/td[2]/div[1]/div[4]/div[3]\")# es esta\n",
    "    boton.click()\n",
    "   "
   ]
  },
  {
   "cell_type": "code",
   "execution_count": 108,
   "id": "73ba9d48",
   "metadata": {},
   "outputs": [
    {
     "ename": "NoSuchElementException",
     "evalue": "Message: no such element: Unable to locate element: {\"method\":\"xpath\",\"selector\":\"/html/body/div[1]/div/div/div/div[2]/div/button[2]/span\"}\n  (Session info: chrome=106.0.5249.119)\nStacktrace:\nBacktrace:\n\tOrdinal0 [0x009C1ED3+2236115]\n\tOrdinal0 [0x009592F1+1807089]\n\tOrdinal0 [0x008666FD+812797]\n\tOrdinal0 [0x008955DF+1005023]\n\tOrdinal0 [0x008957CB+1005515]\n\tOrdinal0 [0x008C7632+1209906]\n\tOrdinal0 [0x008B1AD4+1120980]\n\tOrdinal0 [0x008C59E2+1202658]\n\tOrdinal0 [0x008B18A6+1120422]\n\tOrdinal0 [0x0088A73D+960317]\n\tOrdinal0 [0x0088B71F+964383]\n\tGetHandleVerifier [0x00C6E7E2+2743074]\n\tGetHandleVerifier [0x00C608D4+2685972]\n\tGetHandleVerifier [0x00A52BAA+532202]\n\tGetHandleVerifier [0x00A51990+527568]\n\tOrdinal0 [0x0096080C+1837068]\n\tOrdinal0 [0x00964CD8+1854680]\n\tOrdinal0 [0x00964DC5+1854917]\n\tOrdinal0 [0x0096ED64+1895780]\n\tBaseThreadInitThunk [0x75CD6739+25]\n\tRtlGetFullPathName_UEx [0x76F28FD2+1218]\n\tRtlGetFullPathName_UEx [0x76F28F9D+1165]\n",
     "output_type": "error",
     "traceback": [
      "\u001b[1;31m---------------------------------------------------------------------------\u001b[0m",
      "\u001b[1;31mNoSuchElementException\u001b[0m                    Traceback (most recent call last)",
      "Cell \u001b[1;32mIn [108], line 3\u001b[0m\n\u001b[0;32m      1\u001b[0m driver\u001b[39m.\u001b[39mget(url)\n\u001b[0;32m      2\u001b[0m time\u001b[39m.\u001b[39msleep(\u001b[39m2\u001b[39m)\n\u001b[1;32m----> 3\u001b[0m Cookies \u001b[39m=\u001b[39m driver\u001b[39m.\u001b[39;49mfind_element(\u001b[39m\"\u001b[39;49m\u001b[39mxpath\u001b[39;49m\u001b[39m\"\u001b[39;49m, \u001b[39m\"\u001b[39;49m\u001b[39m/html/body/div[1]/div/div/div/div[2]/div/button[2]/span\u001b[39;49m\u001b[39m\"\u001b[39;49m)\n\u001b[0;32m      4\u001b[0m Cookies\u001b[39m.\u001b[39mclick()\n\u001b[0;32m      5\u001b[0m boton \u001b[39m=\u001b[39m driver\u001b[39m.\u001b[39mfind_element_by_class_name(\u001b[39m\"\u001b[39m\u001b[39mshow-more\u001b[39m\u001b[39m\"\u001b[39m)\n",
      "File \u001b[1;32mc:\\Users\\yagoa\\anaconda3\\envs\\core\\lib\\site-packages\\selenium\\webdriver\\remote\\webdriver.py:856\u001b[0m, in \u001b[0;36mWebDriver.find_element\u001b[1;34m(self, by, value)\u001b[0m\n\u001b[0;32m    853\u001b[0m     by \u001b[39m=\u001b[39m By\u001b[39m.\u001b[39mCSS_SELECTOR\n\u001b[0;32m    854\u001b[0m     value \u001b[39m=\u001b[39m \u001b[39m'\u001b[39m\u001b[39m[name=\u001b[39m\u001b[39m\"\u001b[39m\u001b[39m%s\u001b[39;00m\u001b[39m\"\u001b[39m\u001b[39m]\u001b[39m\u001b[39m'\u001b[39m \u001b[39m%\u001b[39m value\n\u001b[1;32m--> 856\u001b[0m \u001b[39mreturn\u001b[39;00m \u001b[39mself\u001b[39;49m\u001b[39m.\u001b[39;49mexecute(Command\u001b[39m.\u001b[39;49mFIND_ELEMENT, {\n\u001b[0;32m    857\u001b[0m     \u001b[39m'\u001b[39;49m\u001b[39musing\u001b[39;49m\u001b[39m'\u001b[39;49m: by,\n\u001b[0;32m    858\u001b[0m     \u001b[39m'\u001b[39;49m\u001b[39mvalue\u001b[39;49m\u001b[39m'\u001b[39;49m: value})[\u001b[39m'\u001b[39m\u001b[39mvalue\u001b[39m\u001b[39m'\u001b[39m]\n",
      "File \u001b[1;32mc:\\Users\\yagoa\\anaconda3\\envs\\core\\lib\\site-packages\\selenium\\webdriver\\remote\\webdriver.py:429\u001b[0m, in \u001b[0;36mWebDriver.execute\u001b[1;34m(self, driver_command, params)\u001b[0m\n\u001b[0;32m    427\u001b[0m response \u001b[39m=\u001b[39m \u001b[39mself\u001b[39m\u001b[39m.\u001b[39mcommand_executor\u001b[39m.\u001b[39mexecute(driver_command, params)\n\u001b[0;32m    428\u001b[0m \u001b[39mif\u001b[39;00m response:\n\u001b[1;32m--> 429\u001b[0m     \u001b[39mself\u001b[39;49m\u001b[39m.\u001b[39;49merror_handler\u001b[39m.\u001b[39;49mcheck_response(response)\n\u001b[0;32m    430\u001b[0m     response[\u001b[39m'\u001b[39m\u001b[39mvalue\u001b[39m\u001b[39m'\u001b[39m] \u001b[39m=\u001b[39m \u001b[39mself\u001b[39m\u001b[39m.\u001b[39m_unwrap_value(\n\u001b[0;32m    431\u001b[0m         response\u001b[39m.\u001b[39mget(\u001b[39m'\u001b[39m\u001b[39mvalue\u001b[39m\u001b[39m'\u001b[39m, \u001b[39mNone\u001b[39;00m))\n\u001b[0;32m    432\u001b[0m     \u001b[39mreturn\u001b[39;00m response\n",
      "File \u001b[1;32mc:\\Users\\yagoa\\anaconda3\\envs\\core\\lib\\site-packages\\selenium\\webdriver\\remote\\errorhandler.py:243\u001b[0m, in \u001b[0;36mErrorHandler.check_response\u001b[1;34m(self, response)\u001b[0m\n\u001b[0;32m    241\u001b[0m         alert_text \u001b[39m=\u001b[39m value[\u001b[39m'\u001b[39m\u001b[39malert\u001b[39m\u001b[39m'\u001b[39m]\u001b[39m.\u001b[39mget(\u001b[39m'\u001b[39m\u001b[39mtext\u001b[39m\u001b[39m'\u001b[39m)\n\u001b[0;32m    242\u001b[0m     \u001b[39mraise\u001b[39;00m exception_class(message, screen, stacktrace, alert_text)  \u001b[39m# type: ignore[call-arg]  # mypy is not smart enough here\u001b[39;00m\n\u001b[1;32m--> 243\u001b[0m \u001b[39mraise\u001b[39;00m exception_class(message, screen, stacktrace)\n",
      "\u001b[1;31mNoSuchElementException\u001b[0m: Message: no such element: Unable to locate element: {\"method\":\"xpath\",\"selector\":\"/html/body/div[1]/div/div/div/div[2]/div/button[2]/span\"}\n  (Session info: chrome=106.0.5249.119)\nStacktrace:\nBacktrace:\n\tOrdinal0 [0x009C1ED3+2236115]\n\tOrdinal0 [0x009592F1+1807089]\n\tOrdinal0 [0x008666FD+812797]\n\tOrdinal0 [0x008955DF+1005023]\n\tOrdinal0 [0x008957CB+1005515]\n\tOrdinal0 [0x008C7632+1209906]\n\tOrdinal0 [0x008B1AD4+1120980]\n\tOrdinal0 [0x008C59E2+1202658]\n\tOrdinal0 [0x008B18A6+1120422]\n\tOrdinal0 [0x0088A73D+960317]\n\tOrdinal0 [0x0088B71F+964383]\n\tGetHandleVerifier [0x00C6E7E2+2743074]\n\tGetHandleVerifier [0x00C608D4+2685972]\n\tGetHandleVerifier [0x00A52BAA+532202]\n\tGetHandleVerifier [0x00A51990+527568]\n\tOrdinal0 [0x0096080C+1837068]\n\tOrdinal0 [0x00964CD8+1854680]\n\tOrdinal0 [0x00964DC5+1854917]\n\tOrdinal0 [0x0096ED64+1895780]\n\tBaseThreadInitThunk [0x75CD6739+25]\n\tRtlGetFullPathName_UEx [0x76F28FD2+1218]\n\tRtlGetFullPathName_UEx [0x76F28F9D+1165]\n"
     ]
    }
   ],
   "source": [
    "driver.get(url)\n",
    "time.sleep(2)\n",
    "Cookies = driver.find_element(\"xpath\", \"/html/body/div[1]/div/div/div/div[2]/div/button[2]/span\")\n",
    "Cookies.click()\n",
    "boton = driver.find_element_by_class_name(\"show-more\")\n",
    "time.sleep(2)\n",
    "for i in range(0,8):\n",
    "    driver.execute_script(\"window.scrollTo(0, document.body.scrollHeight);\")\n",
    "    time.sleep(3)\n",
    "    boton.click()\n",
    "    time.sleep(3)"
   ]
  },
  {
   "cell_type": "code",
   "execution_count": 18,
   "id": "8cd560f5-c86e-4d4d-9086-b725b2d7f363",
   "metadata": {},
   "outputs": [
    {
     "name": "stderr",
     "output_type": "stream",
     "text": [
      "C:\\Users\\gabri\\AppData\\Local\\Temp/ipykernel_15184/2130620459.py:4: DeprecationWarning: find_element_by_xpath is deprecated. Please use find_element(by=By.XPATH, value=xpath) instead\n",
      "  loadmore = driver.find_element_by_xpath(xpath=\"/html/body/div[5]/table/tbody/tr/td[2]/div[1]/div[4]/div[3]\")\n"
     ]
    }
   ],
   "source": [
    "# buscate la vida donde de meter esto \n",
    "# driver.execute_script(\"window.scrollTo(0, document.body.scrollHeight);\")"
   ]
  },
  {
   "cell_type": "code",
   "execution_count": 27,
   "id": "552035ad",
   "metadata": {},
   "outputs": [
    {
     "data": {
      "text/html": [
       "<div>\n",
       "<style scoped>\n",
       "    .dataframe tbody tr th:only-of-type {\n",
       "        vertical-align: middle;\n",
       "    }\n",
       "\n",
       "    .dataframe tbody tr th {\n",
       "        vertical-align: top;\n",
       "    }\n",
       "\n",
       "    .dataframe thead th {\n",
       "        text-align: right;\n",
       "    }\n",
       "</style>\n",
       "<table border=\"1\" class=\"dataframe\">\n",
       "  <thead>\n",
       "    <tr style=\"text-align: right;\">\n",
       "      <th></th>\n",
       "      <th>ranking</th>\n",
       "      <th>name</th>\n",
       "      <th>year</th>\n",
       "      <th>country</th>\n",
       "      <th>director</th>\n",
       "      <th>cast</th>\n",
       "      <th>rating</th>\n",
       "      <th>poster</th>\n",
       "    </tr>\n",
       "  </thead>\n",
       "  <tbody>\n",
       "    <tr>\n",
       "      <th>0</th>\n",
       "      <td>1</td>\n",
       "      <td>El padrino</td>\n",
       "      <td>1972</td>\n",
       "      <td>Estados Unidos</td>\n",
       "      <td>Francis Ford Coppola</td>\n",
       "      <td>Marlon Brando, Al Pacino, James Caan, Robert D...</td>\n",
       "      <td>9.0</td>\n",
       "      <td>https://pics.filmaffinity.com/the_godfather-48...</td>\n",
       "    </tr>\n",
       "    <tr>\n",
       "      <th>1</th>\n",
       "      <td>2</td>\n",
       "      <td>El padrino. Parte II</td>\n",
       "      <td>1974</td>\n",
       "      <td>Estados Unidos</td>\n",
       "      <td>Francis Ford Coppola</td>\n",
       "      <td>Al Pacino, Robert De Niro, Diane Keaton, Rober...</td>\n",
       "      <td>8.9</td>\n",
       "      <td>https://pics.filmaffinity.com/the_godfather_pa...</td>\n",
       "    </tr>\n",
       "    <tr>\n",
       "      <th>2</th>\n",
       "      <td>3</td>\n",
       "      <td>Doce hombres sin piedad</td>\n",
       "      <td>1957</td>\n",
       "      <td>Estados Unidos</td>\n",
       "      <td>Sidney Lumet</td>\n",
       "      <td>Henry Fonda, Lee J. Cobb, Jack Warden, E.G. Ma...</td>\n",
       "      <td>8.7</td>\n",
       "      <td>https://pics.filmaffinity.com/12_angry_men-122...</td>\n",
       "    </tr>\n",
       "    <tr>\n",
       "      <th>3</th>\n",
       "      <td>4</td>\n",
       "      <td>La lista de Schindler</td>\n",
       "      <td>1993</td>\n",
       "      <td>Estados Unidos</td>\n",
       "      <td>Steven Spielberg</td>\n",
       "      <td>Liam Neeson, Ben Kingsley, Ralph Fiennes, Caro...</td>\n",
       "      <td>8.6</td>\n",
       "      <td>https://pics.filmaffinity.com/schindler_s_list...</td>\n",
       "    </tr>\n",
       "    <tr>\n",
       "      <th>4</th>\n",
       "      <td>5</td>\n",
       "      <td>Testigo de cargo</td>\n",
       "      <td>1957</td>\n",
       "      <td>Estados Unidos</td>\n",
       "      <td>Billy Wilder</td>\n",
       "      <td>Tyrone Power, Marlene Dietrich, Charles Laught...</td>\n",
       "      <td>8.6</td>\n",
       "      <td>https://pics.filmaffinity.com/witness_for_the_...</td>\n",
       "    </tr>\n",
       "    <tr>\n",
       "      <th>...</th>\n",
       "      <td>...</td>\n",
       "      <td>...</td>\n",
       "      <td>...</td>\n",
       "      <td>...</td>\n",
       "      <td>...</td>\n",
       "      <td>...</td>\n",
       "      <td>...</td>\n",
       "      <td>...</td>\n",
       "    </tr>\n",
       "    <tr>\n",
       "      <th>265</th>\n",
       "      <td>266</td>\n",
       "      <td>Up</td>\n",
       "      <td>2009</td>\n",
       "      <td>Estados Unidos</td>\n",
       "      <td>Pete Docter, Bob Peterson</td>\n",
       "      <td>Animación</td>\n",
       "      <td>7.9</td>\n",
       "      <td>https://pics.filmaffinity.com/up-672315222-msm...</td>\n",
       "    </tr>\n",
       "    <tr>\n",
       "      <th>266</th>\n",
       "      <td>267</td>\n",
       "      <td>American Beauty</td>\n",
       "      <td>1999</td>\n",
       "      <td>Estados Unidos</td>\n",
       "      <td>Sam Mendes</td>\n",
       "      <td>Kevin Spacey, Annette Bening, Thora Birch, All...</td>\n",
       "      <td>7.9</td>\n",
       "      <td>https://pics.filmaffinity.com/american_beauty-...</td>\n",
       "    </tr>\n",
       "    <tr>\n",
       "      <th>267</th>\n",
       "      <td>268</td>\n",
       "      <td>En un lugar solitario</td>\n",
       "      <td>1950</td>\n",
       "      <td>Estados Unidos</td>\n",
       "      <td>Nicholas Ray</td>\n",
       "      <td>Humphrey Bogart, Gloria Grahame, Frank Lovejoy...</td>\n",
       "      <td>7.9</td>\n",
       "      <td>https://pics.filmaffinity.com/in_a_lonely_plac...</td>\n",
       "    </tr>\n",
       "    <tr>\n",
       "      <th>268</th>\n",
       "      <td>269</td>\n",
       "      <td>Sucedió una noche</td>\n",
       "      <td>1934</td>\n",
       "      <td>Estados Unidos</td>\n",
       "      <td>Frank Capra</td>\n",
       "      <td>Clark Gable, Claudette Colbert, Walter Connoll...</td>\n",
       "      <td>7.9</td>\n",
       "      <td>https://pics.filmaffinity.com/it_happened_one_...</td>\n",
       "    </tr>\n",
       "    <tr>\n",
       "      <th>269</th>\n",
       "      <td>270</td>\n",
       "      <td>Fanny y Alexander</td>\n",
       "      <td>1982</td>\n",
       "      <td>Suecia</td>\n",
       "      <td>Ingmar Bergman</td>\n",
       "      <td>Bertil Guve, Pernilla Allwin, Gunn Wållgren, E...</td>\n",
       "      <td>7.9</td>\n",
       "      <td>https://pics.filmaffinity.com/fanny_och_alexan...</td>\n",
       "    </tr>\n",
       "  </tbody>\n",
       "</table>\n",
       "<p>270 rows × 8 columns</p>\n",
       "</div>"
      ],
      "text/plain": [
       "     ranking                     name  year         country  \\\n",
       "0          1               El padrino  1972  Estados Unidos   \n",
       "1          2     El padrino. Parte II  1974  Estados Unidos   \n",
       "2          3  Doce hombres sin piedad  1957  Estados Unidos   \n",
       "3          4    La lista de Schindler  1993  Estados Unidos   \n",
       "4          5         Testigo de cargo  1957  Estados Unidos   \n",
       "..       ...                      ...   ...             ...   \n",
       "265      266                       Up  2009  Estados Unidos   \n",
       "266      267          American Beauty  1999  Estados Unidos   \n",
       "267      268    En un lugar solitario  1950  Estados Unidos   \n",
       "268      269        Sucedió una noche  1934  Estados Unidos   \n",
       "269      270        Fanny y Alexander  1982          Suecia   \n",
       "\n",
       "                      director  \\\n",
       "0         Francis Ford Coppola   \n",
       "1         Francis Ford Coppola   \n",
       "2                 Sidney Lumet   \n",
       "3             Steven Spielberg   \n",
       "4                 Billy Wilder   \n",
       "..                         ...   \n",
       "265  Pete Docter, Bob Peterson   \n",
       "266                 Sam Mendes   \n",
       "267               Nicholas Ray   \n",
       "268                Frank Capra   \n",
       "269             Ingmar Bergman   \n",
       "\n",
       "                                                  cast  rating  \\\n",
       "0    Marlon Brando, Al Pacino, James Caan, Robert D...     9.0   \n",
       "1    Al Pacino, Robert De Niro, Diane Keaton, Rober...     8.9   \n",
       "2    Henry Fonda, Lee J. Cobb, Jack Warden, E.G. Ma...     8.7   \n",
       "3    Liam Neeson, Ben Kingsley, Ralph Fiennes, Caro...     8.6   \n",
       "4    Tyrone Power, Marlene Dietrich, Charles Laught...     8.6   \n",
       "..                                                 ...     ...   \n",
       "265                                          Animación     7.9   \n",
       "266  Kevin Spacey, Annette Bening, Thora Birch, All...     7.9   \n",
       "267  Humphrey Bogart, Gloria Grahame, Frank Lovejoy...     7.9   \n",
       "268  Clark Gable, Claudette Colbert, Walter Connoll...     7.9   \n",
       "269  Bertil Guve, Pernilla Allwin, Gunn Wållgren, E...     7.9   \n",
       "\n",
       "                                                poster  \n",
       "0    https://pics.filmaffinity.com/the_godfather-48...  \n",
       "1    https://pics.filmaffinity.com/the_godfather_pa...  \n",
       "2    https://pics.filmaffinity.com/12_angry_men-122...  \n",
       "3    https://pics.filmaffinity.com/schindler_s_list...  \n",
       "4    https://pics.filmaffinity.com/witness_for_the_...  \n",
       "..                                                 ...  \n",
       "265  https://pics.filmaffinity.com/up-672315222-msm...  \n",
       "266  https://pics.filmaffinity.com/american_beauty-...  \n",
       "267  https://pics.filmaffinity.com/in_a_lonely_plac...  \n",
       "268  https://pics.filmaffinity.com/it_happened_one_...  \n",
       "269  https://pics.filmaffinity.com/fanny_och_alexan...  \n",
       "\n",
       "[270 rows x 8 columns]"
      ]
     },
     "execution_count": 27,
     "metadata": {},
     "output_type": "execute_result"
    }
   ],
   "source": [
    "# resultado"
   ]
  },
  {
   "cell_type": "code",
   "execution_count": 29,
   "id": "d50ed865",
   "metadata": {},
   "outputs": [
    {
     "data": {
      "text/plain": [
       "'https://pics.filmaffinity.com/the_godfather-488102675-msmall.jpg'"
      ]
     },
     "execution_count": 29,
     "metadata": {},
     "output_type": "execute_result"
    }
   ],
   "source": [
    "# Ejemplo de la columna poster"
   ]
  },
  {
   "cell_type": "markdown",
   "id": "c8034ee2-0052-4a5e-8301-1ecbebdd53bf",
   "metadata": {},
   "source": [
    "---\n",
    "---\n",
    "---"
   ]
  }
 ],
 "metadata": {
  "kernelspec": {
   "display_name": "Python 3.9.13 ('core')",
   "language": "python",
   "name": "python3"
  },
  "language_info": {
   "codemirror_mode": {
    "name": "ipython",
    "version": 3
   },
   "file_extension": ".py",
   "mimetype": "text/x-python",
   "name": "python",
   "nbconvert_exporter": "python",
   "pygments_lexer": "ipython3",
   "version": "3.9.13"
  },
  "vscode": {
   "interpreter": {
    "hash": "ac008403ab077f3d4ae1d6ae27808d36d5b4b95387f5f1db2e698a5091dca269"
   }
  }
 },
 "nbformat": 4,
 "nbformat_minor": 5
}
