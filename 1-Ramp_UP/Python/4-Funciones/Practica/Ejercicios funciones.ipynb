{
 "cells": [
  {
   "cell_type": "markdown",
   "metadata": {},
   "source": [
    "![imagen](./img/ejercicios.png)"
   ]
  },
  {
   "cell_type": "markdown",
   "metadata": {},
   "source": [
    "# Ejercicios funciones\n",
    "## Ejercicio 1\n",
    "Escribe una función que convierta números del 1 al 7 en nombres de los dias de la semana. La función constará de un único argumento numérico y una salida de tipo string"
   ]
  },
  {
   "cell_type": "code",
   "execution_count": null,
   "metadata": {},
   "outputs": [],
   "source": [
    "dia = \"Lunes\"\n",
    "numero = 1\n",
    "\n",
    "if numero == 1:\n",
    "    print(\"Lunes\")\n",
    "\n",
    "elif numero == 2:\n",
    "    print(\"Martes\")\n",
    "\n",
    "elif numero == 3:\n",
    "    print(\"Miércoles\")\n",
    "\n",
    "elif numero == 4:\n",
    "    print(\"Jueves\")\n",
    "\n",
    "elif numero == 5:\n",
    "    print(\"Viernes\")\n",
    "\n",
    "elif numero == 6:\n",
    "    print(\"Sábado\")\n",
    "\n",
    "elif numero == 7:\n",
    "    print(\"Domingo\")"
   ]
  },
  {
   "cell_type": "code",
   "execution_count": 9,
   "metadata": {},
   "outputs": [],
   "source": [
    "def numero_semana():\n",
    "\n",
    "    while True:\n",
    "        try:\n",
    "            numero = int(input())\n",
    "            if numero == 1:\n",
    "                print(\"Lunes\")\n",
    "                break\n",
    "            elif numero == 2:\n",
    "                print(\"Martes\")\n",
    "                break\n",
    "            elif numero == 3:\n",
    "                print(\"No laborable.\")\n",
    "                break\n",
    "            elif numero == 4:\n",
    "                print(\"Jueves\")\n",
    "                break\n",
    "            elif numero == 5:\n",
    "                print(\"Viernes\")\n",
    "                break\n",
    "            elif numero == 6:\n",
    "                print(\"Sábado\")\n",
    "                break\n",
    "            elif numero == 7:\n",
    "                print(\"Domingo\")\n",
    "                break\n",
    "            \n",
    "            else:\n",
    "                print(\"Elija un numero entre el 1 y el 7\")\n",
    "        except:\n",
    "            print(\"Input un  número entero.\")"
   ]
  },
  {
   "cell_type": "code",
   "execution_count": 10,
   "metadata": {},
   "outputs": [
    {
     "name": "stdout",
     "output_type": "stream",
     "text": [
      "No laborable.\n"
     ]
    }
   ],
   "source": [
    "numero_semana()"
   ]
  },
  {
   "cell_type": "markdown",
   "metadata": {},
   "source": [
    "## Ejercicio 2\n",
    "En el ejercicio 8 de flujos de control, creábamos una pirámide invertida de números desde el 5. Crea una función que replique el comportamiento de la pirámide, y utiliza un único parámetro de entrada de la función para determinar el número de filas de la pirámide."
   ]
  },
  {
   "cell_type": "code",
   "execution_count": 15,
   "metadata": {},
   "outputs": [
    {
     "name": "stdout",
     "output_type": "stream",
     "text": [
      "5 4 3 2 1\n",
      "4 3 2 1\n",
      "3 2 1\n",
      "2 1\n",
      "1\n"
     ]
    }
   ],
   "source": [
    "lista_ejer_2 = list(range(5,0,-1))\n",
    "\n",
    "while len(lista_ejer_2) > 0:\n",
    "    print(*lista_ejer_2)\n",
    "    lista_ejer_2.pop(0)\n"
   ]
  },
  {
   "cell_type": "code",
   "execution_count": 16,
   "metadata": {},
   "outputs": [],
   "source": [
    "def piramide_invertida(numero):\n",
    "\n",
    "    lista_piramide = list(range(numero, 0, -1))\n",
    "    while len(lista_piramide) > 0:\n",
    "        print(*lista_piramide)\n",
    "        lista_piramide.pop(0)\n"
   ]
  },
  {
   "cell_type": "code",
   "execution_count": 18,
   "metadata": {},
   "outputs": [
    {
     "name": "stdout",
     "output_type": "stream",
     "text": [
      "10 9 8 7 6 5 4 3 2 1\n",
      "9 8 7 6 5 4 3 2 1\n",
      "8 7 6 5 4 3 2 1\n",
      "7 6 5 4 3 2 1\n",
      "6 5 4 3 2 1\n",
      "5 4 3 2 1\n",
      "4 3 2 1\n",
      "3 2 1\n",
      "2 1\n",
      "1\n"
     ]
    }
   ],
   "source": [
    "piramide_invertida(10)"
   ]
  },
  {
   "cell_type": "markdown",
   "metadata": {},
   "source": [
    "## Ejercicio 3\n",
    "Escribe una función que compare dos números. La función tiene dos argumentos y hay tres salidas posibles: que sean iguales, que el primero sea  mayor que el segundo, o que el segundo sea mayor que el primero"
   ]
  },
  {
   "cell_type": "code",
   "execution_count": 39,
   "metadata": {},
   "outputs": [],
   "source": [
    "def compara_numeros(numero_1, numero_2):\n",
    "\n",
    "    if numero_1 == numero_2:\n",
    "        print(\"Los números son iguales.\")\n",
    "    \n",
    "    elif numero_1 > numero_2:\n",
    "        print(f'{numero_1} es mayor que {numero_2}')\n",
    "    \n",
    "    elif numero_1 < numero_2:\n",
    "        print(f'{numero_1} es menor que {numero_2}')\n"
   ]
  },
  {
   "cell_type": "code",
   "execution_count": 41,
   "metadata": {},
   "outputs": [
    {
     "name": "stdout",
     "output_type": "stream",
     "text": [
      "1 es menor que 3\n"
     ]
    }
   ],
   "source": [
    "menor_que = compara_numeros(1, 3)"
   ]
  },
  {
   "cell_type": "markdown",
   "metadata": {},
   "source": [
    "## Ejercicio 4\n",
    "Escribe una función que sea un contador de letras. En el primer argumento tienes que introducir un texto, y el segundo que sea una letra que contar. La función tiene que devolver un entero con el número de veces que aparece esa letra, tanto mayuscula, como minúscula"
   ]
  },
  {
   "cell_type": "code",
   "execution_count": 43,
   "metadata": {},
   "outputs": [
    {
     "name": "stdout",
     "output_type": "stream",
     "text": [
      "Tienes 2 letras h\n"
     ]
    }
   ],
   "source": [
    "texto = \"Hola mundoh\"\n",
    "letra = \"h\"\n",
    "counter = 0\n",
    "\n",
    "texto = texto.lower()\n",
    "letra = letra.lower()\n",
    "\n",
    "for i in texto:\n",
    "\n",
    "    if i == letra:\n",
    "        counter +=1\n",
    "\n",
    "print(f'Tienes {counter} letras {letra}')\n"
   ]
  },
  {
   "cell_type": "code",
   "execution_count": 44,
   "metadata": {},
   "outputs": [],
   "source": [
    "def cuenta_letras(texto, letra):\n",
    "    texto = texto.lower()\n",
    "    letra = letra.lower()\n",
    "    counter = 0\n",
    "\n",
    "    for i in texto:\n",
    "        if i == letra:\n",
    "            counter +=1\n",
    "    \n",
    "    print(f'Tienes {counter} letras {letra}')"
   ]
  },
  {
   "cell_type": "code",
   "execution_count": 45,
   "metadata": {},
   "outputs": [
    {
     "name": "stdout",
     "output_type": "stream",
     "text": [
      "Tienes 7 letras o\n"
     ]
    }
   ],
   "source": [
    "cuenta_letras(\"Hola mundooooOo\", \"O\")"
   ]
  },
  {
   "cell_type": "markdown",
   "metadata": {},
   "source": [
    "## Ejercicio 5\n",
    "Escribe una función que tenga un único argumento, un string. La salida de la función tiene que ser un diccionario con el conteo de todas las letras de ese string, siendo la clave la letra y el valor el conteo."
   ]
  },
  {
   "cell_type": "code",
   "execution_count": 46,
   "metadata": {},
   "outputs": [
    {
     "name": "stdout",
     "output_type": "stream",
     "text": [
      "{'H': 1, 'o': 3, 'l': 1, 'a': 1, ' ': 1, 'm': 1, 'u': 1, 'n': 1, 'd': 1}\n"
     ]
    }
   ],
   "source": [
    "texto = \"Hola mundoo\"\n",
    "dic_ejer_5 = {}\n",
    "\n",
    "for i in texto:\n",
    "\n",
    "    if i not in dic_ejer_5.keys():\n",
    "        dic_ejer_5[i] = 1\n",
    "    \n",
    "    else:\n",
    "        dic_ejer_5[i] = dic_ejer_5[i] + 1\n",
    "\n",
    "\n",
    "print(dic_ejer_5)\n"
   ]
  },
  {
   "cell_type": "code",
   "execution_count": 61,
   "metadata": {},
   "outputs": [],
   "source": [
    "def dicc_conteo(texto):\n",
    "    texto  = texto.upper()\n",
    "    dic_ejer_5 = {}\n",
    "    for i in texto:\n",
    "\n",
    "        if i != \" \":\n",
    "\n",
    "            if i not in dic_ejer_5.keys():\n",
    "                dic_ejer_5[i] = 1\n",
    "            \n",
    "            else:\n",
    "                dic_ejer_5[i] = dic_ejer_5[i] + 1\n",
    "    \n",
    "    return dic_ejer_5\n",
    "        "
   ]
  },
  {
   "cell_type": "code",
   "execution_count": 62,
   "metadata": {},
   "outputs": [],
   "source": [
    "dicc_letras = dicc_conteo(\"Holaaaa mundooo\")"
   ]
  },
  {
   "cell_type": "code",
   "execution_count": 63,
   "metadata": {},
   "outputs": [
    {
     "data": {
      "text/plain": [
       "{'H': 1, 'O': 4, 'L': 1, 'A': 4, 'M': 1, 'U': 1, 'N': 1, 'D': 1}"
      ]
     },
     "execution_count": 63,
     "metadata": {},
     "output_type": "execute_result"
    }
   ],
   "source": [
    "dicc_letras"
   ]
  },
  {
   "cell_type": "markdown",
   "metadata": {},
   "source": [
    "## Ejercicio 6\n",
    "Escribir una función que añada o elimine elementos en una lista. La función necesita los siguientes argumentos:\n",
    "* lista: la lista donde se añadirán o eliminarán los elementos\n",
    "* comando: \"add\" o \"remove\"\n",
    "* elemento: Por defecto es None.\n",
    "\n",
    "Tendrá como salida la lista"
   ]
  },
  {
   "cell_type": "code",
   "execution_count": 66,
   "metadata": {},
   "outputs": [
    {
     "name": "stdout",
     "output_type": "stream",
     "text": [
      "['Ana', 'Maria', 'Jose', None]\n"
     ]
    }
   ],
   "source": [
    "lista = [\"Ana\", \"Maria\", \"Jose\"]\n",
    "elemento = None\n",
    "comando = \"add\"\n",
    "\n",
    "if comando == \"add\":\n",
    "    lista.append(elemento)\n",
    "\n",
    "elif comando == \"remove\":\n",
    "    lista.remove(elemento)\n",
    "\n",
    "print(lista)\n"
   ]
  },
  {
   "cell_type": "code",
   "execution_count": 67,
   "metadata": {},
   "outputs": [],
   "source": [
    "def add_remove(lista, comando, elemento = None):\n",
    "\n",
    "    if comando == \"add\":\n",
    "        lista.append(elemento)\n",
    "    elif comando == \"remove\":\n",
    "        lista.remove(elemento)\n",
    "    \n",
    "    return lista\n"
   ]
  },
  {
   "cell_type": "code",
   "execution_count": 73,
   "metadata": {},
   "outputs": [
    {
     "data": {
      "text/plain": [
       "['Ana', 'Maria', 'Jose', 'Pedro', None]"
      ]
     },
     "execution_count": 73,
     "metadata": {},
     "output_type": "execute_result"
    }
   ],
   "source": [
    "add_remove([\"Ana\", \"Maria\", \"Jose\", \"Pedro\"], \"add\")"
   ]
  },
  {
   "cell_type": "markdown",
   "metadata": {},
   "source": [
    "## Ejercicio 7\n",
    "Crea una función que reciba un número arbitrario de palabras, y devuelva una frase completa, separando las palabras con espacios."
   ]
  },
  {
   "cell_type": "code",
   "execution_count": 84,
   "metadata": {},
   "outputs": [
    {
     "name": "stdout",
     "output_type": "stream",
     "text": [
      "Hola Como Estan ?\n"
     ]
    }
   ],
   "source": [
    "palabras = (\"Hola\", \"Como\", \"Estan\", \"?\")\n",
    "frase = \"\"\n",
    "\n",
    "for i in palabras:\n",
    "    frase += i + \" \"\n",
    "\n",
    "\n",
    "print(frase[:-1])"
   ]
  },
  {
   "cell_type": "code",
   "execution_count": 87,
   "metadata": {},
   "outputs": [],
   "source": [
    "def palabra_frase(*args):\n",
    "    frase = \"\"\n",
    "\n",
    "    for i in args:\n",
    "        frase += i + \" \"\n",
    "    \n",
    "    print(frase[:-1])"
   ]
  },
  {
   "cell_type": "code",
   "execution_count": 88,
   "metadata": {},
   "outputs": [
    {
     "name": "stdout",
     "output_type": "stream",
     "text": [
      "Hola como están?\n"
     ]
    }
   ],
   "source": [
    "palabra_frase(\"Hola\", \"como\", \"están?\")"
   ]
  },
  {
   "cell_type": "markdown",
   "metadata": {},
   "source": [
    "## Ejercicio 8\n",
    "Escribe un programa que obtenga el enésimo número de la [serie de Fibonacci](https://es.wikipedia.org/wiki/Sucesi%C3%B3n_de_Fibonacci). Tienes que crear una función recursiva con un único argumento.\n",
    "\n",
    "```Python\n",
    "fibonacci(2) = 1\n",
    "fibonacci(4) = 3\n",
    "fibonacci(5) = 5\n",
    "fibonacci(8) = 21\n",
    "```"
   ]
  },
  {
   "cell_type": "code",
   "execution_count": 91,
   "metadata": {},
   "outputs": [],
   "source": [
    "def fibonacci(n):\n",
    "    if n == 0:\n",
    "        return n\n",
    "    \n",
    "    if n == 1:\n",
    "        return n\n",
    "\n",
    "    return fibonacci(n-1) + fibonacci(n-2)"
   ]
  },
  {
   "cell_type": "code",
   "execution_count": 95,
   "metadata": {},
   "outputs": [
    {
     "data": {
      "text/plain": [
       "6765"
      ]
     },
     "execution_count": 95,
     "metadata": {},
     "output_type": "execute_result"
    }
   ],
   "source": [
    "fibonacci(20)"
   ]
  },
  {
   "cell_type": "markdown",
   "metadata": {},
   "source": [
    "## Ejercicio 9\n",
    "Define en una única celda las siguientes funciones:\n",
    "* Función que calcule el área de un cuadrado\n",
    "* Función que calcule el area de un triángulo\n",
    "* Función que calcule el área de un círculo\n",
    "\n",
    "En otra celda, calcular el area de:\n",
    "* Dos círculos de radio 10 + un triángulo de base 3 y altura 7\n",
    "* Un cuadrado de lado = 10 + 3 círculos (uno de radio = 4 y los otros dos de radio = 6) + 5 triángulos de base = 2 + altura = 4"
   ]
  },
  {
   "cell_type": "code",
   "execution_count": 96,
   "metadata": {},
   "outputs": [],
   "source": [
    "from math import pi"
   ]
  },
  {
   "cell_type": "code",
   "execution_count": 97,
   "metadata": {},
   "outputs": [],
   "source": [
    "def area_cuadrado(a):\n",
    "\n",
    "    return a * a\n",
    "\n",
    "def area_triangulo(h,b):\n",
    "\n",
    "    return (b * h)/2\n",
    "\n",
    "def area_circulo(r):\n",
    "\n",
    "    return pi * (r **2)"
   ]
  },
  {
   "cell_type": "code",
   "execution_count": 102,
   "metadata": {},
   "outputs": [
    {
     "name": "stdout",
     "output_type": "stream",
     "text": [
      "638.8185307179587\n",
      "396.46015351590177\n"
     ]
    }
   ],
   "source": [
    "area_total_1 = area_circulo(10) + area_circulo(10) + area_triangulo(3, 7)\n",
    "print(area_total_1)\n",
    "\n",
    "area_total_2 = area_cuadrado(10) + area_circulo(4) + (2 * area_circulo(6)) + (5 * area_triangulo(2,4))\n",
    "\n",
    "print(area_total_2)"
   ]
  }
 ],
 "metadata": {
  "kernelspec": {
   "display_name": "Python 3",
   "language": "python",
   "name": "python3"
  },
  "language_info": {
   "codemirror_mode": {
    "name": "ipython",
    "version": 3
   },
   "file_extension": ".py",
   "mimetype": "text/x-python",
   "name": "python",
   "nbconvert_exporter": "python",
   "pygments_lexer": "ipython3",
   "version": "3.7.4"
  },
  "vscode": {
   "interpreter": {
    "hash": "1e989a6a87260c027f3014f78a3a3d191394072689c96a40223c8499353d25ee"
   }
  }
 },
 "nbformat": 4,
 "nbformat_minor": 4
}
