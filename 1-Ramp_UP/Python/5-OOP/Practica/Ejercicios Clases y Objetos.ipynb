{
 "cells": [
  {
   "cell_type": "markdown",
   "metadata": {},
   "source": [
    "![imagen](./img/ejercicios.png)\n",
    "\n",
    "# Ejercicios Clases y Objetos"
   ]
  },
  {
   "cell_type": "markdown",
   "metadata": {},
   "source": [
    "## Ejercicio 1\n",
    "Somos una empresa que tiene varias tiendas de electrodomesticos. Necesitamos un programa para manejar las tiendas, ver las ventas que han tenido, cuántos empleados hay, etc... Para ello vamos a modelizar la tienda en una clase, que tendrá las siguientes características:\n",
    "* Nombre clase: \"Tienda\"\n",
    "* Atributos comunes:\n",
    "    * Tipo: \"Electrodomésticos\"\n",
    "    * Abierta: True\n",
    "* Atributos propios de cada tienda:\n",
    "    * Nombre - String\n",
    "    * Dirección - String\n",
    "    * Número de empleados - int\n",
    "    * Ventas ultimos 3 meses - Lista de 3 numeros\n",
    "* Método para calcular las ventas de todos los meses, que devuelva un numero con todas las ventas.\n",
    "* Método que calcula la media de ventas de los últimos meses, por empleado\n",
    "* Método que devuelve en un string el nombre de la tienda, junto con su dirección.\n",
    "* Método que obtiene las ventas del último mes.\n",
    "* Método para dar una proyección de las ventas en caso de haber invertido X dinero en marketing en esa tienda. Siendo X el parámetro de entrada. Si X es menor de 1000, las ventas de los ultimos 3 meses hubiesen sido de (1.2 x ventas), si es mayor o igual de 1000, las ventas hubiesen sido de (1.5 x venta). El método reescribe el atributo de ventas en los últimos 3 meses, y además devuelve las ventas con el aumento.\n",
    "\n",
    "Se pide:\n",
    "1. Implementar la clase \"Tienda\"\n",
    "2. Crear tres tiendas con datos inventados\n",
    "3. Comprueba en al menos una de ellas, todo lo implementado en la clase tienda (sus atributos, media de ventas, ventas/empleado...)\n",
    "3. Calcular las ventas del último mes de todas las tiendas. Para ello usa el bucle `for`\n",
    "4. Imprime por pantalla los nombres de las tiendas cuya dirección lleve el string \"Avenida\"\n",
    "5. Seguro que ya has hecho este apartado... Documenta la clase :)"
   ]
  },
  {
   "cell_type": "code",
   "execution_count": 33,
   "metadata": {},
   "outputs": [],
   "source": [
    "#1\n",
    "class Tienda:\n",
    "\n",
    "    '''Clase que implementa métodos a distintas tiendas de electrodomésticos.'''\n",
    "\n",
    "    tipo = \"Electrodomésticos\"\n",
    "    abierta = True\n",
    "\n",
    "    def __init__ (self, nombre: str, direccion: str, numero_empleados: int, ventas_ult_meses: list):\n",
    "\n",
    "        '''Constructor de la clase Tienda.'''\n",
    "\n",
    "        self.nombre = nombre\n",
    "        self.direccion = direccion\n",
    "        self.numero_empleados = numero_empleados\n",
    "        self.ventas_ult_meses = ventas_ult_meses\n",
    "    \n",
    "    def ventas_all_month(self):\n",
    "        return sum(self.ventas_ult_meses)\n",
    "\n",
    "    def ventas_empleados(self):\n",
    "        return sum(self.ventas_ult_meses)/self.numero_empleados\n",
    "    \n",
    "    def nombre_direccion(self):\n",
    "        print(f'Nombre: {self.nombre}, Dirección: {self.direccion}')\n",
    "    \n",
    "    def ventas_ult_mes(self):\n",
    "        return self.ventas_ult_meses[-1]\n",
    "    \n",
    "    def proyecc_marketing(self, inversion):\n",
    "\n",
    "        if inversion < 1000:\n",
    "\n",
    "            for i in range(len(self.ventas_ult_meses)):\n",
    "\n",
    "                self.ventas_ult_meses[i] = self.ventas_ult_meses[i] * 1.2\n",
    "        \n",
    "        if inversion >= 1000:\n",
    "\n",
    "            for i in range(len(self.ventas_ult_meses)):\n",
    "\n",
    "                self.ventas_ult_meses[i] = self.ventas_ult_meses[i] * 1.5\n",
    "\n",
    "        return self.ventas_ult_meses, sum(self.ventas_ult_meses)"
   ]
  },
  {
   "cell_type": "code",
   "execution_count": 29,
   "metadata": {},
   "outputs": [],
   "source": [
    "#2\n",
    "tienda_1 = Tienda(\"Zara\", \"Gran via\", 10, [13000, 21000, 9000])\n",
    "\n",
    "tienda_2 = Tienda(\"Mango\", \"Sasoiko\", 7, [7000, 11000, 6000])\n",
    "\n",
    "\n",
    "tienda_3 = Tienda(\"Avenida Corte inglés\", \"Somera\", 15, [25000, 28000, 22000])"
   ]
  },
  {
   "cell_type": "code",
   "execution_count": 22,
   "metadata": {},
   "outputs": [
    {
     "name": "stdout",
     "output_type": "stream",
     "text": [
      "Zara\n",
      "Gran via\n",
      "10\n",
      "[13000, 21000, 9000]\n",
      "Electrodomésticos\n",
      "True\n"
     ]
    }
   ],
   "source": [
    "#3\n",
    "#Atributos\n",
    "print(tienda_1.nombre)\n",
    "print(tienda_1.direccion)\n",
    "print(tienda_1.numero_empleados)\n",
    "print(tienda_1.ventas_ult_meses)\n",
    "print(tienda_1.tipo)\n",
    "print(tienda_1.abierta)"
   ]
  },
  {
   "cell_type": "code",
   "execution_count": 23,
   "metadata": {},
   "outputs": [
    {
     "name": "stdout",
     "output_type": "stream",
     "text": [
      "43000\n",
      "4300.0\n",
      "Nombre: Zara, Dirección: Gran via\n",
      "9000\n",
      "([19500.0, 31500.0, 13500.0], 64500.0)\n"
     ]
    }
   ],
   "source": [
    "#3\n",
    "#Métodos\n",
    "print(tienda_1.ventas_all_month())\n",
    "\n",
    "print(tienda_1.ventas_empleados())\n",
    "\n",
    "tienda_1.nombre_direccion()\n",
    "\n",
    "print(tienda_1.ventas_ult_mes())\n",
    "\n",
    "print(tienda_1.proyecc_marketing(1200))"
   ]
  },
  {
   "cell_type": "code",
   "execution_count": 15,
   "metadata": {},
   "outputs": [
    {
     "data": {
      "text/plain": [
       "[19500.0, 31500.0, 13500.0]"
      ]
     },
     "execution_count": 15,
     "metadata": {},
     "output_type": "execute_result"
    }
   ],
   "source": [
    "tienda_1.ventas_ult_meses"
   ]
  },
  {
   "cell_type": "code",
   "execution_count": 30,
   "metadata": {},
   "outputs": [
    {
     "name": "stdout",
     "output_type": "stream",
     "text": [
      "9000\n",
      "15000\n",
      "37000\n",
      "37000\n"
     ]
    }
   ],
   "source": [
    "#4\n",
    "lista_tiendas = [tienda_1, tienda_2, tienda_3]\n",
    "suma_ult_mes = 0\n",
    "\n",
    "for i in lista_tiendas:\n",
    "    suma_ult_mes = suma_ult_mes + i.ventas_ult_meses[-1]\n",
    "    print(suma_ult_mes)\n",
    "\n",
    "print(suma_ult_mes)"
   ]
  },
  {
   "cell_type": "code",
   "execution_count": 32,
   "metadata": {},
   "outputs": [
    {
     "name": "stdout",
     "output_type": "stream",
     "text": [
      "Avenida Corte inglés\n"
     ]
    }
   ],
   "source": [
    "#5\n",
    "\n",
    "for i in lista_tiendas:\n",
    "    if \"Avenida\" in i.nombre:\n",
    "        print(i.nombre)"
   ]
  },
  {
   "cell_type": "code",
   "execution_count": 36,
   "metadata": {},
   "outputs": [
    {
     "name": "stdout",
     "output_type": "stream",
     "text": [
      "Clase que implementa métodos a distintas tiendas de electrodomésticos.\n",
      "Constructor de la clase Tienda.\n"
     ]
    }
   ],
   "source": [
    "#6 Documentación\n",
    "print(Tienda.__doc__)\n",
    "print(Tienda.__init__.__doc__)"
   ]
  },
  {
   "cell_type": "markdown",
   "metadata": {},
   "source": [
    "## Ejercicio 2\n",
    "En este ejercicio vamos a implementar una clase *Perro* en Python. La clase tiene las siguientes características:\n",
    "* Cosas que sabemos seguro que tiene un perro\n",
    "    * Tiene 4 patas\n",
    "    * 2 orejas\n",
    "    * 2 ojos\n",
    "    * Una velocidad de 0. Por defecto, el perro está parado\n",
    "* Cuando se inicialice:\n",
    "    * El perro será de una determinada raza\n",
    "    * Por defecto tendrá pelo \"Marrón\", a no ser que se diga lo contrario.\n",
    "    * Por defecto no tendrá dueño, a no ser que se diga lo contrario.\n",
    "    \n",
    "* Dispondrá también de un método llamado andar, que tiene un argumento de entrada (aumento_velocidad). Este valor se le sumará a la velocidad que ya llevaba el perro.\n",
    "* Necesita otro método (parar), donde pondremos la velocidad a 0.\n",
    "* Otro método llamado \"ladrar\", que tendrá un argumento de entrada, y la salida será el siguiente string: \"GUAU!\" + el argumento de entrada.\n",
    "\n",
    "\n",
    "Se pide:\n",
    "* Implementa la clase *Perro*\n",
    "* Crea un objeto de tipo *Perro*, sin dueño\n",
    "* Comprueba que están bien todos sus atributos\n",
    "* Prueba que ande, y comprueba su velocidad\n",
    "* Páralo\n",
    "* Documenta la clase *Perro*"
   ]
  },
  {
   "cell_type": "code",
   "execution_count": 57,
   "metadata": {},
   "outputs": [],
   "source": [
    "#1\n",
    "class Perro:\n",
    "#6\n",
    "    '''Un perro sano'''\n",
    "\n",
    "    patas = 4\n",
    "    orejas = 2\n",
    "    ojos = 2\n",
    "    velocidad = 0\n",
    "\n",
    "    def __init__(self, raza:str, pelo:str = \"Marrón\", duenio:bool = False):\n",
    "        '''Atributos de un perro'''\n",
    "\n",
    "        self.raza = raza\n",
    "        self.pelo = pelo\n",
    "        self.duenio = duenio\n",
    "    \n",
    "    def andar(self, aumento_velocidad):\n",
    "        self.velocidad = self.velocidad + aumento_velocidad\n",
    "        return self.velocidad\n",
    "    \n",
    "    def parar(self):\n",
    "        self.velocidad = 0\n",
    "        return self.velocidad\n",
    "\n",
    "    def ladrar(self, frase):\n",
    "\n",
    "        print(f'GUAU! {frase}')"
   ]
  },
  {
   "cell_type": "code",
   "execution_count": 51,
   "metadata": {},
   "outputs": [],
   "source": [
    "#2\n",
    "perro_1 = Perro(\"Chihuahua\")"
   ]
  },
  {
   "cell_type": "code",
   "execution_count": 50,
   "metadata": {},
   "outputs": [
    {
     "name": "stdout",
     "output_type": "stream",
     "text": [
      "2\n",
      "2\n",
      "4\n",
      "Marrón\n",
      "Chihuahua\n",
      "False\n"
     ]
    }
   ],
   "source": [
    "#3\n",
    "print(perro_1.ojos)\n",
    "print(perro_1.orejas)\n",
    "print(perro_1.patas)\n",
    "print(perro_1.pelo)\n",
    "print(perro_1.raza)\n",
    "print(perro_1.duenio)"
   ]
  },
  {
   "cell_type": "code",
   "execution_count": 52,
   "metadata": {},
   "outputs": [
    {
     "data": {
      "text/plain": [
       "30"
      ]
     },
     "execution_count": 52,
     "metadata": {},
     "output_type": "execute_result"
    }
   ],
   "source": [
    "#4\n",
    "perro_1.andar(30)"
   ]
  },
  {
   "cell_type": "code",
   "execution_count": 53,
   "metadata": {},
   "outputs": [
    {
     "data": {
      "text/plain": [
       "30"
      ]
     },
     "execution_count": 53,
     "metadata": {},
     "output_type": "execute_result"
    }
   ],
   "source": [
    "#4\n",
    "perro_1.velocidad"
   ]
  },
  {
   "cell_type": "code",
   "execution_count": 55,
   "metadata": {},
   "outputs": [
    {
     "data": {
      "text/plain": [
       "0"
      ]
     },
     "execution_count": 55,
     "metadata": {},
     "output_type": "execute_result"
    }
   ],
   "source": [
    "#5\n",
    "perro_1.parar()"
   ]
  },
  {
   "cell_type": "code",
   "execution_count": 56,
   "metadata": {},
   "outputs": [
    {
     "data": {
      "text/plain": [
       "0"
      ]
     },
     "execution_count": 56,
     "metadata": {},
     "output_type": "execute_result"
    }
   ],
   "source": [
    "perro_1.velocidad"
   ]
  },
  {
   "cell_type": "code",
   "execution_count": 58,
   "metadata": {},
   "outputs": [
    {
     "name": "stdout",
     "output_type": "stream",
     "text": [
      "GUAU! Vamos a jugar!\n"
     ]
    }
   ],
   "source": [
    "perro_1.ladrar(\"Vamos a jugar!\")"
   ]
  },
  {
   "cell_type": "code",
   "execution_count": 70,
   "metadata": {},
   "outputs": [],
   "source": [
    "perro_2 = Perro(\"Policia\", duenio= True)"
   ]
  },
  {
   "cell_type": "code",
   "execution_count": 71,
   "metadata": {},
   "outputs": [
    {
     "data": {
      "text/plain": [
       "'Marrón'"
      ]
     },
     "execution_count": 71,
     "metadata": {},
     "output_type": "execute_result"
    }
   ],
   "source": [
    "perro_2.pelo"
   ]
  }
 ],
 "metadata": {
  "kernelspec": {
   "display_name": "Python 3",
   "language": "python",
   "name": "python3"
  },
  "language_info": {
   "codemirror_mode": {
    "name": "ipython",
    "version": 3
   },
   "file_extension": ".py",
   "mimetype": "text/x-python",
   "name": "python",
   "nbconvert_exporter": "python",
   "pygments_lexer": "ipython3",
   "version": "3.7.4"
  },
  "vscode": {
   "interpreter": {
    "hash": "1e989a6a87260c027f3014f78a3a3d191394072689c96a40223c8499353d25ee"
   }
  }
 },
 "nbformat": 4,
 "nbformat_minor": 4
}
