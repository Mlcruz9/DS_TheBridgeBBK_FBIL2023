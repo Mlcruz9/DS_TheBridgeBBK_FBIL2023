{
 "cells": [
  {
   "cell_type": "markdown",
   "metadata": {},
   "source": [
    "## Juego del Ahorcado\n",
    "El funcionamiento es que vaya mostrando por pantalla ```_ _ _ _ _``` las rayas bajas correspondientes al número de letras que tiene la palabra a adivinar. El usuario deberá insertar una letra y, si esa letra existe, se mostrará o mostrarán las letras acertadas ```S _ S _ _```. \n",
    "\n",
    "Si falla, se mostrará el número de errores que lleva y, si lleva 6 errores, entonces se mostrará \"Fin del juego\".\n",
    "Encapsúlalo en una función."
   ]
  },
  {
   "cell_type": "code",
   "execution_count": 3,
   "metadata": {},
   "outputs": [],
   "source": [
    "import time"
   ]
  },
  {
   "cell_type": "code",
   "execution_count": 6,
   "metadata": {},
   "outputs": [
    {
     "name": "stdout",
     "output_type": "stream",
     "text": [
      "La letra 1 no se encuentra\n",
      "Te quedan: 5 vidas\n"
     ]
    }
   ],
   "source": [
    "palabra_adivinar = input(\"Escriba palabra para jugar: \").upper()\n",
    "palabra_oculta = list(\"_\" * len(palabra_adivinar))\n",
    "\n",
    "vidas = 6\n",
    "while True:\n",
    "    time.sleep(1)\n",
    "\n",
    "    if \"_\" in palabra_oculta:\n",
    "        letra_usuario = input(\"Di una letra: \").upper()\n",
    "\n",
    "        if letra_usuario in palabra_adivinar:\n",
    "\n",
    "            for i,j in enumerate(palabra_adivinar):\n",
    "                if j == letra_usuario:\n",
    "                    palabra_oculta[i] = letra_usuario\n",
    "                    print(\"Has acertado una letra!\")\n",
    "                    print(*palabra_oculta)\n",
    "        \n",
    "        if letra_usuario not in palabra_adivinar:\n",
    "\n",
    "            print(f'La letra {letra_usuario} no se encuentra')\n",
    "            vidas -= 1\n",
    "            print(f'Te quedan: {vidas} vidas')\n",
    "            if vidas == 0:\n",
    "                print(\"Has perdido!\")\n",
    "                break\n",
    "    \n",
    "    else:\n",
    "        print(\"Has ganado!\")\n",
    "        break\n",
    "\n"
   ]
  },
  {
   "cell_type": "code",
   "execution_count": 2,
   "metadata": {},
   "outputs": [],
   "source": [
    "def ahorcado(vidas, palabra_adivinar):\n",
    "    \n",
    "    palabra_adivinar = palabra_adivinar.upper()\n",
    "    palabra_oculta = list(\"_\" * len(palabra_adivinar))\n",
    "\n",
    "    while True:\n",
    "        time.sleep(1)\n",
    "\n",
    "        if \"_\" in palabra_oculta:\n",
    "            letra_usuario = input(\"Di una letra: \").upper()\n",
    "\n",
    "            if letra_usuario in palabra_adivinar:\n",
    "\n",
    "                for i,j in enumerate(palabra_adivinar):\n",
    "                    if j == letra_usuario:\n",
    "                        palabra_oculta[i] = letra_usuario\n",
    "                        print(\"Has acertado una letra!\")\n",
    "                        print(*palabra_oculta)\n",
    "            \n",
    "            if letra_usuario not in palabra_adivinar:\n",
    "\n",
    "                print(f'La letra {letra_usuario} no se encuentra')\n",
    "                vidas -= 1\n",
    "                print(f'Te quedan: {vidas} vidas')\n",
    "                if vidas == 0:\n",
    "                    print(\"Has perdido!\")\n",
    "                    break\n",
    "        \n",
    "        else:\n",
    "            print(\"Has ganado!\")\n",
    "            break\n"
   ]
  }
 ],
 "metadata": {
  "kernelspec": {
   "display_name": "Python 3",
   "language": "python",
   "name": "python3"
  },
  "language_info": {
   "codemirror_mode": {
    "name": "ipython",
    "version": 3
   },
   "file_extension": ".py",
   "mimetype": "text/x-python",
   "name": "python",
   "nbconvert_exporter": "python",
   "pygments_lexer": "ipython3",
   "version": "3.7.4"
  },
  "orig_nbformat": 4,
  "vscode": {
   "interpreter": {
    "hash": "1e989a6a87260c027f3014f78a3a3d191394072689c96a40223c8499353d25ee"
   }
  }
 },
 "nbformat": 4,
 "nbformat_minor": 2
}
